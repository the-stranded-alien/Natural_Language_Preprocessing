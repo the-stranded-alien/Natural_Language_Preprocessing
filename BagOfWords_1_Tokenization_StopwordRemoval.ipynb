{
 "cells": [
  {
   "cell_type": "markdown",
   "metadata": {},
   "source": [
    "# Bag of Words Pipeline\n",
    "\n",
    "    -> Get The Data / Corpus\n",
    "    -> Tokenisation, Stopword Removal\n",
    "    -> Stemming\n",
    "    -> Building A Vocab\n",
    "    -> Vectorization\n",
    "    -> Classification"
   ]
  },
  {
   "cell_type": "code",
   "execution_count": 1,
   "metadata": {},
   "outputs": [],
   "source": [
    "document = \"\"\"It was a very pleasant day. The weather was cool and there were light showers.\n",
    "I went to the market to buy some fruits.\"\"\"\n",
    "\n",
    "sentence = \"Send all the 50 documents related to chapters 1,2,3 at sahil@gmail.com\""
   ]
  },
  {
   "cell_type": "markdown",
   "metadata": {},
   "source": [
    "## Tokenisation"
   ]
  },
  {
   "cell_type": "code",
   "execution_count": 2,
   "metadata": {},
   "outputs": [],
   "source": [
    "from nltk.tokenize import sent_tokenize, word_tokenize"
   ]
  },
  {
   "cell_type": "code",
   "execution_count": 3,
   "metadata": {},
   "outputs": [
    {
     "name": "stdout",
     "output_type": "stream",
     "text": [
      "['It was a very pleasant day.', 'The weather was cool and there were light showers.', 'I went to the market to buy some fruits.']\n",
      "3\n"
     ]
    }
   ],
   "source": [
    "sents = sent_tokenize(document)\n",
    "print(sents)\n",
    "print(len(sents))"
   ]
  },
  {
   "cell_type": "code",
   "execution_count": 4,
   "metadata": {},
   "outputs": [
    {
     "name": "stdout",
     "output_type": "stream",
     "text": [
      "['Send', 'all', 'the', '50', 'documents', 'related', 'to', 'chapters', '1,2,3', 'at', 'sahil@gmail.com']\n"
     ]
    }
   ],
   "source": [
    "print(sentence.split())"
   ]
  },
  {
   "cell_type": "code",
   "execution_count": 5,
   "metadata": {},
   "outputs": [
    {
     "name": "stdout",
     "output_type": "stream",
     "text": [
      "['Send', 'all', 'the', '50', 'documents', 'related', 'to', 'chapters', '1,2,3', 'at', 'sahil', '@', 'gmail.com']\n",
      "13\n"
     ]
    }
   ],
   "source": [
    "words = word_tokenize(sentence)\n",
    "print(words)\n",
    "print(len(words))"
   ]
  },
  {
   "cell_type": "markdown",
   "metadata": {},
   "source": [
    "## Stopword Removal"
   ]
  },
  {
   "cell_type": "code",
   "execution_count": 6,
   "metadata": {},
   "outputs": [],
   "source": [
    "from nltk.corpus import stopwords"
   ]
  },
  {
   "cell_type": "code",
   "execution_count": 7,
   "metadata": {},
   "outputs": [
    {
     "name": "stdout",
     "output_type": "stream",
     "text": [
      "{'you', 'how', 'other', 'weren', 'ma', \"you'll\", 'my', 'being', 'that', 'the', 'with', 'against', 'such', 'own', 'your', 'me', 'of', 'these', 'isn', 'll', \"you're\", 'couldn', 'then', 'out', 'shan', 'be', 'but', 're', 'hers', 'themselves', 'same', 'yourself', 'about', 'from', 'who', 'having', 'it', 'have', 'or', 'am', 'on', 'he', 'both', 'over', \"haven't\", \"that'll\", 'mightn', 'had', 'any', 'can', 'him', 'again', 'only', 'hasn', \"doesn't\", 'ours', 'and', 'if', 'up', 'what', \"shouldn't\", 'above', 'an', \"weren't\", 'mustn', 'o', 'will', 'should', \"should've\", 'at', 'don', \"don't\", 'by', 'when', 'i', 'before', 'down', 'been', \"aren't\", 'wasn', 'all', \"wasn't\", 'do', 'into', 'she', 'as', 'our', 'ourselves', \"needn't\", 'once', 'haven', 'below', 'y', 'has', 'were', 'this', \"wouldn't\", 'ain', 'in', 'herself', 'there', 'so', 'yours', 'was', 'won', 'during', 'because', 'them', 'for', 'more', 've', 'needn', 'some', 'not', 'until', 'didn', 'himself', 'itself', 'now', 'm', 'is', 'did', \"you've\", \"hasn't\", 'under', 'each', 'here', 'its', \"isn't\", 's', 'than', \"hadn't\", \"she's\", 'their', 'most', 'shouldn', 'between', 'to', 'doing', 'why', \"couldn't\", 'does', 'his', 'while', 'where', 'they', 'which', 'very', \"shan't\", 'wouldn', 'doesn', 'we', 'are', 'too', 'her', \"mightn't\", 'those', 'just', 'aren', 'further', 'no', 't', 'hadn', 'yourselves', 'few', \"you'd\", 'off', 'a', 'nor', 'after', \"it's\", \"mustn't\", \"didn't\", 'through', \"won't\", 'myself', 'theirs', 'd', 'whom'}\n"
     ]
    }
   ],
   "source": [
    "sw = set(stopwords.words('english'))\n",
    "print(sw)"
   ]
  },
  {
   "cell_type": "code",
   "execution_count": 8,
   "metadata": {},
   "outputs": [],
   "source": [
    "def remove_stopwords(text, stopwords):\n",
    "    useful_words = [w for w in text if w not in stopwords]\n",
    "    return useful_words"
   ]
  },
  {
   "cell_type": "code",
   "execution_count": 9,
   "metadata": {},
   "outputs": [
    {
     "name": "stdout",
     "output_type": "stream",
     "text": [
      "['I', 'bothered', 'much']\n"
     ]
    }
   ],
   "source": [
    "text = \"I am not bothered about her very much\".split()\n",
    "useful_text = remove_stopwords(text, sw)\n",
    "print(useful_text)"
   ]
  },
  {
   "cell_type": "code",
   "execution_count": 10,
   "metadata": {},
   "outputs": [
    {
     "data": {
      "text/plain": [
       "True"
      ]
     },
     "execution_count": 10,
     "metadata": {},
     "output_type": "execute_result"
    }
   ],
   "source": [
    "\"not\" in sw"
   ]
  },
  {
   "cell_type": "markdown",
   "metadata": {},
   "source": [
    "## Tokenization Using Regular Expressions"
   ]
  },
  {
   "cell_type": "code",
   "execution_count": 11,
   "metadata": {},
   "outputs": [],
   "source": [
    "sentence = \"Send all the 50 documents related to chapters 1,2,3 at sahil@gmail.com\""
   ]
  },
  {
   "cell_type": "code",
   "execution_count": 12,
   "metadata": {},
   "outputs": [],
   "source": [
    "from nltk.tokenize import RegexpTokenizer"
   ]
  },
  {
   "cell_type": "code",
   "execution_count": 13,
   "metadata": {},
   "outputs": [
    {
     "name": "stdout",
     "output_type": "stream",
     "text": [
      "['Send', 'all', 'the', 'documents', 'related', 'to', 'chapters', 'at', 'sahil@gmail.com']\n"
     ]
    }
   ],
   "source": [
    "tokenizer = RegexpTokenizer('[a-zA-Z@.]+')\n",
    "useful_text = tokenizer.tokenize(sentence)\n",
    "print(useful_text)"
   ]
  }
 ],
 "metadata": {
  "kernelspec": {
   "display_name": "Python 3",
   "language": "python",
   "name": "python3"
  },
  "language_info": {
   "codemirror_mode": {
    "name": "ipython",
    "version": 3
   },
   "file_extension": ".py",
   "mimetype": "text/x-python",
   "name": "python",
   "nbconvert_exporter": "python",
   "pygments_lexer": "ipython3",
   "version": "3.7.7"
  }
 },
 "nbformat": 4,
 "nbformat_minor": 2
}
