{
 "cells": [
  {
   "cell_type": "markdown",
   "metadata": {},
   "source": [
    "## More Ways to Create Features\n",
    "\n",
    "    -> Unigram\n",
    "    -> Bigrams\n",
    "    -> Trigrams\n",
    "    -> n-grams\n",
    "    -> TF-IDF Normalisation"
   ]
  },
  {
   "cell_type": "code",
   "execution_count": 1,
   "metadata": {},
   "outputs": [],
   "source": [
    "sent_1 = [\"this is good movie\"]\n",
    "sent_2 = [\"this is not good movie\"]"
   ]
  },
  {
   "cell_type": "code",
   "execution_count": 2,
   "metadata": {},
   "outputs": [],
   "source": [
    "from sklearn.feature_extraction.text import CountVectorizer\n",
    "\n",
    "cv = CountVectorizer()"
   ]
  },
  {
   "cell_type": "code",
   "execution_count": 3,
   "metadata": {},
   "outputs": [
    {
     "name": "stdout",
     "output_type": "stream",
     "text": [
      "[[1 1 1 0 1]\n",
      " [1 1 1 1 1]]\n"
     ]
    }
   ],
   "source": [
    "docs = [sent_1[0], sent_2[0]]\n",
    "print(cv.fit_transform(docs).toarray())"
   ]
  },
  {
   "cell_type": "code",
   "execution_count": 4,
   "metadata": {},
   "outputs": [
    {
     "name": "stdout",
     "output_type": "stream",
     "text": [
      "[[1 1 0 0 1]\n",
      " [1 0 1 1 1]]\n",
      "{'this is': 4, 'is good': 1, 'good movie': 0, 'is not': 2, 'not good': 3}\n"
     ]
    }
   ],
   "source": [
    "# Bigram\n",
    "cv_bigram = CountVectorizer(ngram_range=(2,2))\n",
    "print(cv_bigram.fit_transform(docs).toarray())\n",
    "print(cv_bigram.vocabulary_)"
   ]
  },
  {
   "cell_type": "code",
   "execution_count": 5,
   "metadata": {},
   "outputs": [
    {
     "name": "stdout",
     "output_type": "stream",
     "text": [
      "[[1 0 0 1 0]\n",
      " [0 1 1 0 1]]\n",
      "{'this is good': 3, 'is good movie': 0, 'this is not': 4, 'is not good': 1, 'not good movie': 2}\n"
     ]
    }
   ],
   "source": [
    "# Trigram\n",
    "\n",
    "cv_trigram = CountVectorizer(ngram_range=(3,3))\n",
    "print(cv_trigram.fit_transform(docs).toarray())\n",
    "print(cv_trigram.vocabulary_)"
   ]
  },
  {
   "cell_type": "markdown",
   "metadata": {},
   "source": [
    "### N-Grams"
   ]
  },
  {
   "cell_type": "code",
   "execution_count": 6,
   "metadata": {},
   "outputs": [
    {
     "name": "stdout",
     "output_type": "stream",
     "text": [
      "[[1 1 1 1 1 0 0 1 0 0 0 1 1 1 0]\n",
      " [1 1 1 0 0 1 1 1 1 1 1 1 1 0 1]]\n",
      "{'this': 11, 'is': 2, 'good': 0, 'movie': 7, 'this is': 12, 'is good': 3, 'good movie': 1, 'this is good': 13, 'is good movie': 4, 'not': 8, 'is not': 5, 'not good': 9, 'this is not': 14, 'is not good': 6, 'not good movie': 10}\n"
     ]
    }
   ],
   "source": [
    "cv_ngram_1_3 = CountVectorizer(ngram_range=(1,3))\n",
    "print(cv_ngram_1_3.fit_transform(docs).toarray())\n",
    "print(cv_ngram_1_3.vocabulary_)"
   ]
  }
 ],
 "metadata": {
  "kernelspec": {
   "display_name": "Python 3",
   "language": "python",
   "name": "python3"
  },
  "language_info": {
   "codemirror_mode": {
    "name": "ipython",
    "version": 3
   },
   "file_extension": ".py",
   "mimetype": "text/x-python",
   "name": "python",
   "nbconvert_exporter": "python",
   "pygments_lexer": "ipython3",
   "version": "3.7.7"
  }
 },
 "nbformat": 4,
 "nbformat_minor": 2
}
